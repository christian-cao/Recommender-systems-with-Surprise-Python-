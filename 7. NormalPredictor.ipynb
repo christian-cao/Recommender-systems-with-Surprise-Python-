{
 "cells": [
  {
   "cell_type": "code",
   "execution_count": 1,
   "metadata": {
    "collapsed": true
   },
   "outputs": [],
   "source": [
    "from surprise import NormalPredictor\n",
    "from surprise import Dataset\n",
    "from surprise import Reader\n",
    "from surprise.model_selection import cross_validate\n",
    "\n",
    "import pandas as pd"
   ]
  },
  {
   "cell_type": "code",
   "execution_count": 2,
   "metadata": {},
   "outputs": [
    {
     "name": "stderr",
     "output_type": "stream",
     "text": [
      "C:\\Users\\ingeniero\\Anaconda3\\lib\\site-packages\\ipykernel_launcher.py:1: ParserWarning: Falling back to the 'python' engine because the 'c' engine does not support regex separators (separators > 1 char and different from '\\s+' are interpreted as regex); you can avoid this warning by specifying engine='python'.\n",
      "  \"\"\"Entry point for launching an IPython kernel.\n"
     ]
    }
   ],
   "source": [
    "# Cargar  los registros de usuarios\n",
    "ratings_df = pd.read_csv('ratings.dat', sep='::', header=None)"
   ]
  },
  {
   "cell_type": "code",
   "execution_count": 3,
   "metadata": {
    "collapsed": true
   },
   "outputs": [],
   "source": [
    "del (ratings_df[3])# borrar la tercera fila correspondiente a la fecha"
   ]
  },
  {
   "cell_type": "code",
   "execution_count": 4,
   "metadata": {
    "collapsed": true
   },
   "outputs": [],
   "source": [
    "reader = Reader(rating_scale=(1,5))# Clase usada 'parsear' el dataframe de ratings"
   ]
  },
  {
   "cell_type": "code",
   "execution_count": 5,
   "metadata": {
    "collapsed": true
   },
   "outputs": [],
   "source": [
    "data = Dataset.load_from_df(ratings_df,reader)# cargar el dataset desde dataframe y el reader"
   ]
  },
  {
   "cell_type": "code",
   "execution_count": 6,
   "metadata": {},
   "outputs": [
    {
     "name": "stdout",
     "output_type": "stream",
     "text": [
      "Evaluating RMSE, MAE of algorithm NormalPredictor on 5 split(s).\n",
      "\n",
      "                  Fold 1  Fold 2  Fold 3  Fold 4  Fold 5  Mean    Std     \n",
      "RMSE (testset)    1.5042  1.5034  1.5058  1.5057  1.5041  1.5046  0.0009  \n",
      "MAE (testset)     1.2044  1.2044  1.2078  1.2074  1.2049  1.2058  0.0015  \n",
      "Fit time          1.78    1.74    1.74    1.76    1.77    1.76    0.01    \n",
      "Test time         3.17    3.14    3.08    3.09    3.09    3.11    0.03    \n"
     ]
    },
    {
     "data": {
      "text/plain": [
       "{'fit_time': (1.777101755142212,\n",
       "  1.7440998554229736,\n",
       "  1.7400996685028076,\n",
       "  1.7561004161834717,\n",
       "  1.7681007385253906),\n",
       " 'test_mae': array([ 1.20441623,  1.20441896,  1.20775922,  1.20739107,  1.20488838]),\n",
       " 'test_rmse': array([ 1.50423057,  1.50337001,  1.50578756,  1.50569856,  1.50412795]),\n",
       " 'test_time': (3.1671812534332275,\n",
       "  3.1431796550750732,\n",
       "  3.081176280975342,\n",
       "  3.094177007675171,\n",
       "  3.08717679977417)}"
      ]
     },
     "execution_count": 6,
     "metadata": {},
     "output_type": "execute_result"
    }
   ],
   "source": [
    "cross_validate(NormalPredictor(), data, verbose=True)# uso del algoritmo predictor normal\n",
    "# Correr 5 validaciones cruzadas e imprimir sus resultado y arroja la descripcion/medidas del modelo"
   ]
  },
  {
   "cell_type": "code",
   "execution_count": null,
   "metadata": {
    "collapsed": true
   },
   "outputs": [],
   "source": []
  }
 ],
 "metadata": {
  "kernelspec": {
   "display_name": "Python 3",
   "language": "python",
   "name": "python3"
  },
  "language_info": {
   "codemirror_mode": {
    "name": "ipython",
    "version": 3
   },
   "file_extension": ".py",
   "mimetype": "text/x-python",
   "name": "python",
   "nbconvert_exporter": "python",
   "pygments_lexer": "ipython3",
   "version": "3.6.3"
  }
 },
 "nbformat": 4,
 "nbformat_minor": 2
}
