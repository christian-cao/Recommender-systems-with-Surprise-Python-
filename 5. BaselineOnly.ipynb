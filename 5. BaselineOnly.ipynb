{
 "cells": [
  {
   "cell_type": "code",
   "execution_count": 1,
   "metadata": {
    "collapsed": true
   },
   "outputs": [],
   "source": [
    "from surprise import BaselineOnly\n",
    "from surprise import Dataset\n",
    "from surprise import Reader\n",
    "from surprise.model_selection import cross_validate\n",
    "\n",
    "import pandas as pd"
   ]
  },
  {
   "cell_type": "code",
   "execution_count": 2,
   "metadata": {},
   "outputs": [
    {
     "name": "stderr",
     "output_type": "stream",
     "text": [
      "C:\\Users\\ingeniero\\Anaconda3\\lib\\site-packages\\ipykernel_launcher.py:1: ParserWarning: Falling back to the 'python' engine because the 'c' engine does not support regex separators (separators > 1 char and different from '\\s+' are interpreted as regex); you can avoid this warning by specifying engine='python'.\n",
      "  \"\"\"Entry point for launching an IPython kernel.\n"
     ]
    }
   ],
   "source": [
    "# Cargar  los registros de usuarios\n",
    "ratings_df = pd.read_csv('ratings.dat', sep='::', header=None)"
   ]
  },
  {
   "cell_type": "code",
   "execution_count": 3,
   "metadata": {
    "collapsed": true
   },
   "outputs": [],
   "source": [
    "del (ratings_df[3])# borrar la tercera fila correspondiente a la fecha "
   ]
  },
  {
   "cell_type": "code",
   "execution_count": 4,
   "metadata": {
    "collapsed": true
   },
   "outputs": [],
   "source": [
    "reader = Reader(rating_scale=(1,5))# Clase usada 'parsear' el dataframe de ratings"
   ]
  },
  {
   "cell_type": "code",
   "execution_count": 5,
   "metadata": {
    "collapsed": true
   },
   "outputs": [],
   "source": [
    "data = Dataset.load_from_df(ratings_df,reader)# cargar el dataset desde dataframe y el reader"
   ]
  },
  {
   "cell_type": "code",
   "execution_count": 6,
   "metadata": {},
   "outputs": [
    {
     "name": "stdout",
     "output_type": "stream",
     "text": [
      "Evaluating RMSE, MAE of algorithm BaselineOnly on 5 split(s).\n",
      "\n",
      "                  Fold 1  Fold 2  Fold 3  Fold 4  Fold 5  Mean    Std     \n",
      "RMSE (testset)    0.9075  0.9100  0.9088  0.9084  0.9093  0.9088  0.0008  \n",
      "MAE (testset)     0.7177  0.7212  0.7197  0.7196  0.7197  0.7196  0.0011  \n",
      "Fit time          1.16    1.18    1.12    1.13    0.99    1.12    0.07    \n",
      "Test time         2.74    3.09    3.09    2.71    2.61    2.85    0.20    \n"
     ]
    },
    {
     "data": {
      "text/plain": [
       "{'fit_time': (1.1580662727355957,\n",
       "  1.1820673942565918,\n",
       "  1.1240642070770264,\n",
       "  1.1260643005371094,\n",
       "  0.9890565872192383),\n",
       " 'test_mae': array([ 0.71770873,  0.7212385 ,  0.71966785,  0.71958816,  0.71965381]),\n",
       " 'test_rmse': array([ 0.90746143,  0.90999264,  0.90881235,  0.90843437,  0.90928032]),\n",
       " 'test_time': (2.737156629562378,\n",
       "  3.0861763954162598,\n",
       "  3.088176727294922,\n",
       "  2.7101550102233887,\n",
       "  2.606149196624756)}"
      ]
     },
     "execution_count": 6,
     "metadata": {},
     "output_type": "execute_result"
    }
   ],
   "source": [
    "cross_validate(BaselineOnly(), data, verbose=True) # uso del algoritmo BaselineOnly\n",
    "# Correr 5 validaciones cruzadas e imprimir sus resultado y arroja la descripcion/medidas del modelo"
   ]
  }
 ],
 "metadata": {
  "kernelspec": {
   "display_name": "Python 3",
   "language": "python",
   "name": "python3"
  },
  "language_info": {
   "codemirror_mode": {
    "name": "ipython",
    "version": 3
   },
   "file_extension": ".py",
   "mimetype": "text/x-python",
   "name": "python",
   "nbconvert_exporter": "python",
   "pygments_lexer": "ipython3",
   "version": "3.6.3"
  }
 },
 "nbformat": 4,
 "nbformat_minor": 2
}
